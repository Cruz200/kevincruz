{
  "nbformat": 4,
  "nbformat_minor": 0,
  "metadata": {
    "colab": {
      "provenance": []
    },
    "kernelspec": {
      "name": "python3",
      "display_name": "Python 3"
    },
    "language_info": {
      "name": "python"
    }
  },
  "cells": [
    {
      "cell_type": "code",
      "source": [
        "! pip install nltk\n",
        "! python -m nltk.downloader words"
      ],
      "metadata": {
        "colab": {
          "base_uri": "https://localhost:8080/"
        },
        "id": "nAXUkiogmsea",
        "outputId": "2c8567e8-ce3d-445f-fb3f-8a2479afbb2b"
      },
      "execution_count": null,
      "outputs": [
        {
          "output_type": "stream",
          "name": "stdout",
          "text": [
            "Requirement already satisfied: nltk in /usr/local/lib/python3.10/dist-packages (3.8.1)\n",
            "Requirement already satisfied: click in /usr/local/lib/python3.10/dist-packages (from nltk) (8.1.7)\n",
            "Requirement already satisfied: joblib in /usr/local/lib/python3.10/dist-packages (from nltk) (1.3.2)\n",
            "Requirement already satisfied: regex>=2021.8.3 in /usr/local/lib/python3.10/dist-packages (from nltk) (2023.6.3)\n",
            "Requirement already satisfied: tqdm in /usr/local/lib/python3.10/dist-packages (from nltk) (4.66.1)\n",
            "/usr/lib/python3.10/runpy.py:126: RuntimeWarning: 'nltk.downloader' found in sys.modules after import of package 'nltk', but prior to execution of 'nltk.downloader'; this may result in unpredictable behaviour\n",
            "  warn(RuntimeWarning(msg))\n",
            "[nltk_data] Downloading package words to /root/nltk_data...\n",
            "[nltk_data]   Unzipping corpora/words.zip.\n"
          ]
        }
      ]
    },
    {
      "cell_type": "markdown",
      "source": [
        "# Nueva sección"
      ],
      "metadata": {
        "id": "-h9zTSUVGXJq"
      }
    },
    {
      "cell_type": "code",
      "execution_count": null,
      "metadata": {
        "id": "nzyoMFqTl4AZ"
      },
      "outputs": [],
      "source": [
        "import nltk\n",
        "import random"
      ]
    },
    {
      "cell_type": "code",
      "source": [
        "# Descarga el corpus de palabras si no lo has hecho antes\n",
        "words = nltk.download('words')"
      ],
      "metadata": {
        "colab": {
          "base_uri": "https://localhost:8080/"
        },
        "id": "Bdf1ry_bm9hL",
        "outputId": "2f084420-a46f-40c1-846c-2095f87e8134"
      },
      "execution_count": null,
      "outputs": [
        {
          "output_type": "stream",
          "name": "stderr",
          "text": [
            "[nltk_data] Downloading package words to /root/nltk_data...\n",
            "[nltk_data]   Unzipping corpora/words.zip.\n"
          ]
        }
      ]
    },
    {
      "cell_type": "code",
      "source": [
        "# Carga las palabras disponibles en el corpus de palabras de nltk\n",
        "nltk_words = nltk.corpus.words.words()\n",
        "len(nltk_words)"
      ],
      "metadata": {
        "colab": {
          "base_uri": "https://localhost:8080/"
        },
        "id": "3wwhzlIInA8b",
        "outputId": "7b96ad05-e1c0-43fa-b0ed-8fb8f8229052"
      },
      "execution_count": null,
      "outputs": [
        {
          "output_type": "execute_result",
          "data": {
            "text/plain": [
              "236736"
            ]
          },
          "metadata": {},
          "execution_count": 3
        }
      ]
    },
    {
      "cell_type": "code",
      "source": [
        "# Selecciona aleatoriamente 20 palabras del corpus\n",
        "lista_aleatoria = random.sample(nltk_words, k=20)\n",
        "\n",
        "print(lista_aleatoria)\n",
        "len(lista_aleatoria)"
      ],
      "metadata": {
        "id": "G1PexnddnR4_"
      },
      "execution_count": null,
      "outputs": []
    },
    {
      "cell_type": "markdown",
      "source": [
        "1. Lyric en español (4) --> descargar\n",
        "2. Transformar el Lyric en una lista de palabras (**Tokenización**) LISTA 1\n",
        "3. Generar una lista de palabras aleatoria en español (investigar qué biblioteca genera palabras en español de uso común) n=20 LISTA 2\n",
        "4. **Contar cuántas veces aparece** cada una de esas palabras en la sumatoria de Lyrics convertida en lista 1. Contar cuántas veces aparece cada elemento de la LISTA 2 en la LISTA 1. Y volcarlo en un dataframe y gráfica de barros.\n",
        "\n",
        "AYUDA PARA RESOLVER LA TOKENIZACION de PALABRAS\n",
        "from nltk.tokenize import word_tokenize\n",
        "lyric = \" texto de la cancion \"\n",
        "palabras_tokenizadas = word_tokenize(lyric)\n",
        "\n",
        "\n",
        "\n",
        "\n",
        "- SPACY\n",
        "- NLTK\n",
        "\n",
        "\n"
      ],
      "metadata": {
        "id": "kYWzq2fmo1SO"
      }
    }
  ]
}