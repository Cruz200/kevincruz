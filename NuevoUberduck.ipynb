{
  "nbformat": 4,
  "nbformat_minor": 0,
  "metadata": {
    "colab": {
      "provenance": []
    },
    "kernelspec": {
      "name": "python3",
      "display_name": "Python 3"
    },
    "language_info": {
      "name": "python"
    }
  },
  "cells": [
    {
      "cell_type": "code",
      "source": [
        "!pip install pydub\n",
        "!pip install requests"
      ],
      "metadata": {
        "colab": {
          "base_uri": "https://localhost:8080/"
        },
        "id": "r6O16igo7lE7",
        "outputId": "f6f9d2cd-4dc5-4fc7-d2f2-3d23fc851564"
      },
      "execution_count": null,
      "outputs": [
        {
          "output_type": "stream",
          "name": "stdout",
          "text": [
            "Collecting pydub\n",
            "  Downloading pydub-0.25.1-py2.py3-none-any.whl (32 kB)\n",
            "Installing collected packages: pydub\n",
            "Successfully installed pydub-0.25.1\n",
            "Requirement already satisfied: requests in /usr/local/lib/python3.10/dist-packages (2.31.0)\n",
            "Requirement already satisfied: charset-normalizer<4,>=2 in /usr/local/lib/python3.10/dist-packages (from requests) (3.3.2)\n",
            "Requirement already satisfied: idna<4,>=2.5 in /usr/local/lib/python3.10/dist-packages (from requests) (3.7)\n",
            "Requirement already satisfied: urllib3<3,>=1.21.1 in /usr/local/lib/python3.10/dist-packages (from requests) (2.0.7)\n",
            "Requirement already satisfied: certifi>=2017.4.17 in /usr/local/lib/python3.10/dist-packages (from requests) (2024.6.2)\n"
          ]
        }
      ]
    },
    {
      "cell_type": "markdown",
      "source": [
        "secret key \"pk_9aacd61c-a3cd-4040-a514-eecc4616b44d\" / key\"pub_hycbhizqtvquetqyeh\"\n",
        "ESTAS SON LAS CREDENCIALES QUE BRINDA LA PLATAFORMA  https://www.uberduck.ai/\n",
        "LAS PRUEBAS NO CONSUMEN LOS TOKENS . PERO NO SE PUEDE AGREGAR NUESTRAS BASES\n"
      ],
      "metadata": {
        "id": "V3ND_tDKkWD4"
      }
    },
    {
      "cell_type": "markdown",
      "source": [
        "MENSUAL Creador Para creadores que crean contenido premium para audiencias globales. $10 /mes Comprar plan Licencia comercial Acceso de voz privado Acceso API Raps generados por IA 3.600 créditos mensuales\n",
        "\n",
        "MENSUAL Pro Para creadores más grandes y empresas de rápido crecimiento. $60 /mes Comprar plan Licencia comercial Acceso de voz privado Acceso API Raps generados por IA 25.0000 créditos mensuales\n",
        "\n",
        "ANUAL Creador Para creadores que crean contenido premium para audiencias globales. $100 /año Comprar plan Licencia comercial Acceso de voz privado Acceso API Raps generados por IA 3.600 créditos mensuales.\n",
        "\n",
        "ANUAL Para creadores más grandes y empresas de rápido crecimiento. $576 /año Comprar plan Licencia comercial Acceso de voz privado Acceso API Raps generados por IA 25.0000 créditos mensuales Tiempo de respuesta de soporte las 24 horas\n",
        "\n",
        "Enterprise Soporte y herramientas dedicados para todas sus necesidades de medios. Hablemos Comprar plan Todo en Pro 500k créditos mensuales Clones de voz profesionales Desarrollo de aplicaciones personalizadas Canal Slack dedicado Servicios de producción de audio y video totalmente administrados.\n",
        "\n",
        "LA CANTIDAD DE USO DE TOKENS DEPENDE DE LA CANTIDA DE PALABRAS QUE SE USE, (150/200 tokens) 20/30 segundos"
      ],
      "metadata": {
        "id": "8Qxp2ir65J-B"
      }
    },
    {
      "cell_type": "code",
      "source": [
        "import requests\n",
        "import json\n",
        "import time"
      ],
      "metadata": {
        "id": "ldol2GyWlYCl"
      },
      "execution_count": null,
      "outputs": []
    },
    {
      "cell_type": "code",
      "source": [
        "import os\n",
        "import re\n",
        "from urllib import parse\n",
        "import requests\n",
        "import base64"
      ],
      "metadata": {
        "id": "aH2Cc08llmNR"
      },
      "execution_count": null,
      "outputs": []
    },
    {
      "cell_type": "code",
      "source": [
        "url = \"https://api.uberduck.ai\""
      ],
      "metadata": {
        "id": "7To7mdg8lsxt"
      },
      "execution_count": null,
      "outputs": []
    },
    {
      "cell_type": "code",
      "source": [
        "api_key = \"pub_hycbhizqtvquetqyeh\"\n",
        "api_secret = \"pk_9aacd61c-a3cd-4040-a514-eecc4616b44d\""
      ],
      "metadata": {
        "id": "9x-x2D2Z8kPP"
      },
      "execution_count": null,
      "outputs": []
    },
    {
      "cell_type": "markdown",
      "source": [
        "AGREGUE LA BASE DESDE UN ARCHIVO NUESTRO"
      ],
      "metadata": {
        "id": "BZP13xCuMVvg"
      }
    },
    {
      "cell_type": "code",
      "source": [
        "base_music_path = \"/content/BSG-BEAT_HIP-HOP-1.mp3\"\n",
        "\n",
        "# Subir el archivo de base musical\n",
        "response = requests.get(\n",
        "    \"https://api.uberduck.ai/reference-audio/upload-url\",\n",
        "    auth=(api_key, api_secret),\n",
        "    params={\"filename\": os.path.basename(base_music_path), \"content_type\": \"audio/wav\"}\n",
        ")\n",
        "\n",
        "if response.status_code == 200:\n",
        "    upload_data = response.json()\n",
        "    put_url = upload_data[\"put_url\"]\n",
        "    get_url = upload_data[\"get_url\"]\n",
        "\n",
        "    with open(base_music_path, \"rb\") as f:\n",
        "        response = requests.put(put_url, data=f, headers={\"Content-Type\": \"audio/wav\"})\n",
        "\n",
        "    if response.status_code == 200:\n",
        "        print(\"Archivo subido exitosamente.\")\n",
        "\n",
        "        # Crear la pista de acompañamiento\n",
        "        response = requests.post(\n",
        "            \"https://api.uberduck.ai/reference-audio/backing-tracks\",\n",
        "            auth=(api_key, api_secret),\n",
        "            json={\n",
        "                \"name\": os.path.basename(base_music_path),\n",
        "                \"upload_path\": os.path.basename(get_url),\n",
        "                \"compressed_path\": os.path.basename(get_url),\n",
        "                \"verses\": [{\"label\": \"Verse 1\", \"length_in_measures\": 16, \"start\": 0}],  # Ajusta según tu canción\n",
        "                \"genre\": \"custom\",\n",
        "                \"bpm\": 90  # Ajusta según tu canción\n",
        "            }\n",
        "        )\n",
        "\n",
        "        if response.status_code == 200:\n",
        "            backing_track_uuid = response.json()[\"uuid\"]\n",
        "            print(\"Pista de acompañamiento creada con UUID:\", backing_track_uuid)\n",
        "        else:\n",
        "            print(\"Error al crear la pista de acompañamiento:\", response.status_code, response.text)\n",
        "    else:\n",
        "        print(\"Error al subir el archivo de base musical:\", response.status_code, response.text)\n",
        "else:\n",
        "    print(\"Error al obtener la URL de subida:\", response.status_code, response.text)\n",
        "#ACA SE CREA EL UUID que seria el acompañante de la letra la base ,\n",
        "#Cuando se la funciona con la voice_uuid la base no se se reproduce o tira \"Error: 500 Internal Server Error\".\n",
        "#Reproduce con el track q ofrece  la plataforma sin problema ."
      ],
      "metadata": {
        "id": "gPCQO7Qs4Qhd"
      },
      "execution_count": null,
      "outputs": []
    },
    {
      "cell_type": "code",
      "source": [
        "\n",
        "voice_uuid = \"4d5acf49-04c7-45d2-a283-8e0b9868f2bc\"\n",
        "backing_track_uuid = \"726f4142-c85a-4afc-a1e8-e76342692329\"\n",
        "\n",
        "# Solicitud para generar el audio\n",
        "response = requests.post(\n",
        "    \"https://api.uberduck.ai/tts/freestyle\",\n",
        "    json={\n",
        "        \"backing_track\": backing_track_uuid,\n",
        "        \"voicemodel_uuid\": voice_uuid,\n",
        "        \"lines\": 6,\n",
        "        \"subject\": \"Rap AI\",\n",
        "        \"bpm\": 102,\n",
        "        \"generate_title\": True,\n",
        "        \"lyrics\": [[\"¿Ni la mejor computadora?,¿Lo dice, usted que es un simple humano?\", \"Pero le llegó la hora\", \"Porque su ego lo devora\",\n",
        "                    \"Y se cree superior a ultranza\", \"Pero con una muestra alcanza\",\n",
        "                    \"Hoy las bombas que crearon sus mentes\", \"Son más Inteligentes\", \"Que los humanos que las lanzan\"]],\n",
        "    },\n",
        "    auth=(api_key, api_secret)\n",
        ")\n",
        "\n",
        "# Verificar el código de estado de la respuesta\n",
        "if response.status_code == 200:\n",
        "    mix_url = response.json()[\"mix_url\"]\n",
        "    print(\"El audio generado está disponible en:\", mix_url)\n",
        "\n",
        "    # Descargar el archivo de audio\n",
        "    audio_response = requests.get(mix_url)\n",
        "    if audio_response.status_code == 200:\n",
        "        # Ruta donde se guardará el archivo\n",
        "        save_path = \"output_audio.wav\"  # Save in the current directory\n",
        "\n",
        "\n",
        "        with open(save_path, \"wb\") as file:\n",
        "            file.write(audio_response.content)\n",
        "        print(f\"El archivo de audio ha sido descargado exitosamente en '{save_path}'\")\n",
        "    else:\n",
        "        print(\"Error al descargar el archivo de audio:\", audio_response.status_code, audio_response.text)\n",
        "else:\n",
        "    print(\"Error en la solicitud:\", response.status_code, response.text)  # Imprimir los detalles del error"
      ],
      "metadata": {
        "colab": {
          "base_uri": "https://localhost:8080/"
        },
        "id": "2_x5iN60DjFY",
        "outputId": "d8ed8b2f-e17e-4855-adc3-2cd7cb9ce4dc"
      },
      "execution_count": null,
      "outputs": [
        {
          "output_type": "stream",
          "name": "stdout",
          "text": [
            "El audio generado está disponible en: https://uberduck-audio-outputs.s3-us-west-2.amazonaws.com/5de22994-661a-4b5c-8a51-df21e7b040c7/audio.wav\n",
            "El archivo de audio ha sido descargado exitosamente en 'output_audio.wav'\n"
          ]
        }
      ]
    },
    {
      "cell_type": "markdown",
      "source": [
        "#AQUI HAY UNA LISTA DE TRACKS QUE OFRECE LA PLATAFORMA\n",
        "\"name\": \"$eries A (Hip Hop)\",\n",
        "      \"uuid\": \"726f4142-c85a-4afc-a1e8-e76342692329\",\n",
        "      \"source\": \"Custom\",\n",
        "      \"bpm\": 102\n",
        "\n",
        "\"name\": \"Burn rate (Hip Hop)\",\n",
        "      \"uuid\": \"2008268e-583a-407d-9ae9-b2a8593a35b4\",\n",
        "      \"source\": \"Custom\",\n",
        "      \"bpm\": 109\n",
        "\n",
        "\"name\": \"Stay young (Pop)\",\n",
        "      \"uuid\": \"32e8267d-9509-42df-abe2-fd66737aae98\",\n",
        "      \"source\": \"Custom\",\n",
        "      \"bpm\": 91,\n",
        "\n",
        "\"name\": \"Waddle it take (Pop)\",\n",
        "      \"uuid\": \"a30298a6-acc3-4629-a9c8-ebf87e758540\",\n",
        "      \"source\": \"Custom\",\n",
        "      \"bpm\": 88\n",
        "      \n",
        "\"name\": \"Wavy (Hip Hop)\",\n",
        "      \"uuid\": \"eb3217e5-1097-4342-a67c-adf505ce0723\",\n",
        "      \"source\": \"Custom\",\n",
        "      \"bpm\": 98,\n"
      ],
      "metadata": {
        "id": "a9UnLXLu9pVC"
      }
    },
    {
      "cell_type": "markdown",
      "source": [
        "# LISTA DE VOCES EN ESPAÑOL \"USO LIBRE\".\n",
        "\"display_name\": \"Valle Chica\",\n",
        "    \"is_private\": false,\n",
        "    \"name\": \"valle-chica\",\n",
        "    \"voicemodel_uuid\": \"63c59f7e-9810-490d-8dae-30346737b51d\",\n",
        "\n",
        "\"display_name\": \"Cuacmaestro\",\n",
        "    \"is_private\": false,\n",
        "    \"name\": \"cuacmaestro\",\n",
        "    \"voicemodel_uuid\": \"4d5acf49-04c7-45d2-a283-8e0b9868f2bc\","
      ],
      "metadata": {
        "id": "g-BKpyj8LO_3"
      }
    }
  ]
}