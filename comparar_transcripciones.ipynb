{
  "nbformat": 4,
  "nbformat_minor": 0,
  "metadata": {
    "colab": {
      "provenance": []
    },
    "kernelspec": {
      "name": "python3",
      "display_name": "Python 3"
    },
    "language_info": {
      "name": "python"
    }
  },
  "cells": [
    {
      "cell_type": "code",
      "execution_count": null,
      "metadata": {
        "id": "gb-zFGDFUOHT"
      },
      "outputs": [],
      "source": [
        "!pip install google-cloud-speech\n",
        "!pip install pydub\n",
        "!pip install --upgrade SpeechRecognition\n",
        "!pip install unidecode\n",
        "!pip install jiwer"
      ]
    },
    {
      "cell_type": "markdown",
      "source": [
        "**Letra cancion real**"
      ],
      "metadata": {
        "id": "pc8IgIlOU9w1"
      }
    },
    {
      "cell_type": "code",
      "source": [
        "letra_real=('Quiero cantar el abismo Y a la muerte estafar Volvamos a cero borremoslo todo Y festejemos si mañana me despierto solo y feliz Por eso canción, llevame lejos Donde nadie se acuerde de mi Quiero ser el murmullo De alguna ciudad que no sepa quien soy Yo daria hasta mi sueño Por ver la farsa fallar Perdamos el centro, Quememoslo todo Y pediremos que mañana Nadie venga a hacerme cumplir Por eso canción, llevame lejos Donde nadie se acuerde de mi Quiero ser el murmullo De alguna ciudad que no sepa quien soy Lo cambio todo por el don Que hace a las mujeres reir El mundo de ellas Me hunde en sus huellas Y roguemos que mañana Me convierta en otro infeliz')\n",
        "#letra_real =('Me verás volar Por la ciudad de la furia Donde nadie sabe de mí Y yo soy parte de todos Nada cambiará Con un aviso de curva En sus caras veo el temor Ya no hay fábulas En la ciudad de la furia Me verás caer Como un ave de presa Me verás caer Sobre terrazas desiertas Te desnudaré Por las calles azules')\n"
      ],
      "metadata": {
        "id": "n_2D1A8OUzri"
      },
      "execution_count": null,
      "outputs": []
    },
    {
      "cell_type": "markdown",
      "source": [
        "**bibliotecas**"
      ],
      "metadata": {
        "id": "szYq7XUYVNcl"
      }
    },
    {
      "cell_type": "code",
      "source": [
        "from google.colab import files\n",
        "from google.colab import drive\n",
        "import io\n",
        "from google.cloud import speech_v1p1beta1 as speech\n",
        "import re\n",
        "from pydub import AudioSegment\n",
        "import speech_recognition as sr\n",
        "import jiwer"
      ],
      "metadata": {
        "id": "Bv3-tIVGU7mu"
      },
      "execution_count": null,
      "outputs": []
    },
    {
      "cell_type": "code",
      "source": [
        "drive.mount('/content/drive')"
      ],
      "metadata": {
        "colab": {
          "base_uri": "https://localhost:8080/"
        },
        "id": "Kxvow-aMVUcP",
        "outputId": "56bb384b-d1b9-4949-a2ab-7e2cb77ef165"
      },
      "execution_count": null,
      "outputs": [
        {
          "output_type": "stream",
          "name": "stdout",
          "text": [
            "Mounted at /content/drive\n"
          ]
        }
      ]
    },
    {
      "cell_type": "markdown",
      "source": [
        "**AQUI HAGO LA TRANSCRIPCION DE LA CANCION. DE AUDIO A UNA LISTA DE PALABRAS**"
      ],
      "metadata": {
        "id": "OiIvqv2TWl8_"
      }
    },
    {
      "cell_type": "code",
      "source": [
        "def transcribir_cancion(ruta_archivo):\n",
        "    # Cargar el archivo de audio\n",
        "    audio_segment = AudioSegment.from_mp3('/content/drive/MyDrive/audios/Babasonicos_-_El_colmo._(mp3.pm).mp3')\n",
        "\n",
        "    # Convertir a formato wav si es necesario\n",
        "    audio_wav = audio_segment.export(\"audio.wav\", format=\"wav\")\n",
        "\n",
        "    # Reconocer el audio\n",
        "    recognizer = sr.Recognizer()\n",
        "    with sr.AudioFile(\"audio.wav\") as source:\n",
        "        audio = recognizer.record(source)\n",
        "\n",
        "    # Realizar el reconocimiento de voz\n",
        "    try:\n",
        "        texto_transcrito = recognizer.recognize_google(audio, language=\"es-ES\")\n",
        "    except sr.UnknownValueError:\n",
        "        texto_transcrito = \"No se pudo reconocer el audio\"\n",
        "    except sr.RequestError as e:\n",
        "        texto_transcrito = f\"Error en la solicitud: {e}\"\n",
        "\n",
        "    # Dividir el texto en palabras considerando signos de puntuación, números, etc.\n",
        "    palabras = re.findall(r'\\w+', texto_transcrito.lower())\n",
        "\n",
        "    return palabras\n",
        "\n",
        "# Ruta al archivo de audio\n",
        "ruta_archivo = '/content/drive/MyDrive/audios/Babasonicos_-_El_colmo._(mp3.pm).mp3'\n",
        "\n",
        "# Realizar la transcripción\n",
        "transcripcion = transcribir_cancion(ruta_archivo)\n",
        "print(transcripcion)"
      ],
      "metadata": {
        "colab": {
          "base_uri": "https://localhost:8080/"
        },
        "id": "nw4abGKtV-sf",
        "outputId": "d1f39172-eea0-49e4-ed38-a92212a18987"
      },
      "execution_count": null,
      "outputs": [
        {
          "output_type": "stream",
          "name": "stdout",
          "text": [
            "['quiero', 'pintar', 'el', 'abismo', 'y', 'a', 'la', 'muerte', 'está', 'afuera', 'volvamos', 'a', 'cero', 'borrémoslo', 'todo', 'y', 'festejemos', 'y', 'mañana', 'me', 'despierto', 'soy', 'feliz', 'por', 'eso', 'canción', 'llévame', 'lejos', 'donde', 'nadie', 'se', 'acuerde', 'de', 'mí', 'quiero', 'ser', 'el', 'amor', 'murmullo', 'de', 'alguna', 'ciudad', 'que', 'no', 'sepa', 'quiero', 'saber', 'yo', 'daría', 'hasta', 'mi', 'sueño', 'por', 'verla', 'para', 'zafarse', 'perdamos', 'el', 'centro', 'quememos', 'lo', 'todo', 'y', 'pediremos', 'que', 'mañana', 'nadie', 'vendrá', 'a', 'ser', 'de', 'cumplir', 'por', 'eso', 'canción', 'llévame', 'lejos', 'donde', 'nadie', 'se', 'acuerde', 'de', 'mí', 'quiero', 'ser', 'un', 'murmullo', 'de', 'alguna', 'ciudad', 'que', 'no', 'sepa', 'quiero', 'ir', 'cambiando', 'de', 'todo', 'corazón', 'que', 'hace', 'a', 'las', 'mujeres', 'reír', 'el', 'mundo', 'de', 'ellas', 'me', 'hunden', 'sus', 'huellas', 'y', 'roguemos', 'que', 'mañana', 'me', 'convierta', 'en', 'otro', 'infeliz', 'por', 'su', 'canción', 'de', 'dame', 'la', 'cruz', 'donde', 'nadie', 'se', 'acuerde', 'de', 'mí', 'quiero', 'ser', 'el', 'amor', 'mucho', 'de', 'alguna', 'ciudad', 'que', 'no', 'se', 'va', 'quiero', 'oír', 'canción', 'llévame', 'lejos', 'donde', 'nadie', 'se', 'acuerde', 'de', 'mí', 'quiero', 'ser', 'el', 'murmullo', 'de', 'alguna', 'ciudad', 'que', 'nos', 'separan', 'quién', 'soy']\n"
          ]
        }
      ]
    },
    {
      "cell_type": "markdown",
      "source": [
        "ACA HAGO LA FUNCION DE COMPARAR LA PRESICION DE AMBOS RESULTADOS"
      ],
      "metadata": {
        "id": "VnJkZyC5W6DR"
      }
    },
    {
      "cell_type": "code",
      "source": [
        "def evaluar_transcripcion(letra_real, transcripcion):\n",
        "    # Convertir la letra real en un conjunto de palabras\n",
        "    palabras_letra_real = set(letra_real.split())\n",
        "    palabras_letra_real = {palabra.lower() for palabra in palabras_letra_real}\n",
        "\n",
        "    # Convertir la transcripción en un conjunto de palabras\n",
        "    palabras_transcripcion = set(\" \".join(transcripcion).lower().split())\n",
        "\n",
        "    # Calcular la Word Error Rate (WER)\n",
        "    wer = jiwer.wer(letra_real, \" \".join(transcripcion))\n",
        "\n",
        "    # Encontrar las palabras coincidentes\n",
        "    palabras_coincidentes = palabras_letra_real.intersection(palabras_transcripcion)\n",
        "\n",
        "    # Calcular el puntaje de precisión como el porcentaje de palabras coincidentes\n",
        "    precision = (len(palabras_coincidentes) / len(palabras_letra_real)) * 100\n",
        "\n",
        "    return wer, precision, palabras_letra_real, palabras_transcripcion\n",
        "\n",
        "#  letra real de la canción como una cadena de texto en una variable llamada letra_real\n",
        "# transcripción de la canción en una lista llamada transcripcion\n",
        "# Llamas a la función evaluar_transcripcion(letra_real, transcripcion) para obtener la WER, el puntaje de precisión y las palabras coincidentes\n",
        "wer, precision, palabras_letra_real, palabras_transcripcion = evaluar_transcripcion(letra_real, transcripcion)\n",
        "print(\"Word Error Rate (WER):\", wer)\n",
        "print(\"El puntaje de precisión es:\", precision)\n",
        "print(\"Palabras de la letra real:\", palabras_letra_real)\n",
        "print(\"Palabras de la transcripción:\", palabras_transcripcion)\n"
      ],
      "metadata": {
        "id": "JaYx3kGYWzae"
      },
      "execution_count": null,
      "outputs": []
    }
  ]
}