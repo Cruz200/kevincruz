{
  "cells": [
    {
      "cell_type": "markdown",
      "source": [
        "**instalacion de de bibliotecas**"
      ],
      "metadata": {
        "id": "XKDx5E0j7--u"
      }
    },
    {
      "cell_type": "code",
      "source": [
        "!pip install streamlit streamlit-webrtc opencv-python-headless\n",
        "!pip install streamlit --quiet"
      ],
      "metadata": {
        "id": "1Z3F9vG54qlc"
      },
      "execution_count": null,
      "outputs": []
    },
    {
      "cell_type": "code",
      "source": [
        "#codigo IP que sirve como contraseña para entrar al tunel\n",
        "\n",
        "!wget -q -O - ipv4.icanhazip.com"
      ],
      "metadata": {
        "colab": {
          "base_uri": "https://localhost:8080/"
        },
        "id": "E4bxWbfFX3kc",
        "outputId": "27552a7c-6f00-4ca4-94d6-e6668176a412"
      },
      "execution_count": null,
      "outputs": [
        {
          "output_type": "stream",
          "name": "stdout",
          "text": [
            "34.30.237.99\n"
          ]
        }
      ]
    },
    {
      "cell_type": "markdown",
      "source": [
        "**funcion para abrir el microfono**"
      ],
      "metadata": {
        "id": "qFZt79Ik8QOn"
      }
    },
    {
      "cell_type": "code",
      "source": [
        "\n",
        "#comienzo a escribir la app con el nombre \"app.py\"\n",
        "%%writefile app.py\n",
        "# bibliotecas a utilizar\n",
        "import streamlit as st\n",
        "from streamlit_webrtc import webrtc_streamer, ClientSettings\n",
        "\n",
        "# Configuración del cliente de WebRTC para audio\n",
        "client_settings = ClientSettings(\n",
        "    rtc_configuration={\"iceServers\": [{\"urls\": [\"stun:stun.l.google.com:19302\"]}]},\n",
        "    media_stream_constraints={\"audio\": True, \"video\": False},\n",
        ")\n",
        "\n",
        "# Título de la aplicación\n",
        "st.title(\"Acceso al micrófono\")\n",
        "\n",
        "# Iniciar el streaming del micrófono\n",
        "webrtc_streamer(key=\"microphone\", client_settings=client_settings)\n",
        "#llamar a la función para iniciar la aplicación web"
      ],
      "metadata": {
        "colab": {
          "base_uri": "https://localhost:8080/"
        },
        "id": "iQzokanU3N93",
        "outputId": "48ea3c35-b680-4b78-c710-eddf279ac544"
      },
      "execution_count": null,
      "outputs": [
        {
          "output_type": "stream",
          "name": "stdout",
          "text": [
            "Overwriting app.py\n"
          ]
        }
      ]
    },
    {
      "cell_type": "markdown",
      "source": [
        "**utilizo streamlit para crear un tunel y me direcciona a una pagina que me pide una contraseña que es el IP de la consola virtual del colab**"
      ],
      "metadata": {
        "id": "jDKEpbSO5ZzX"
      }
    },
    {
      "cell_type": "code",
      "source": [
        "#creo el link en \"your url is: \" que me lleva a una pagina donde me pide la contraseña \"External url los numeros , exectuando los : y los ultimos cuatro\"\n",
        "! streamlit run app.py & npx localtunnel --port 8501"
      ],
      "metadata": {
        "id": "5GbG8n6Uow2v"
      },
      "execution_count": null,
      "outputs": []
    }
  ],
  "metadata": {
    "colab": {
      "provenance": []
    },
    "kernelspec": {
      "display_name": "Python 3",
      "name": "python3"
    },
    "language_info": {
      "name": "python"
    }
  },
  "nbformat": 4,
  "nbformat_minor": 0
}