{
  "cells": [
    {
      "cell_type": "markdown",
      "metadata": {
        "id": "bd3Sv30_44_L"
      },
      "source": [
        "Uso de la Api de Twilio que nos permite realizar una comunicacion desde colab hacia el numero de whatsapp que usemos de prueba por medio del numero que brinda la plataforma que es \"+14155238886\".\n",
        "Los precios varian segun el pais y el uso https://www.twilio.com/es-mx/whatsapp/pricing .\n"
      ]
    },
    {
      "cell_type": "code",
      "execution_count": null,
      "metadata": {
        "colab": {
          "base_uri": "https://localhost:8080/"
        },
        "id": "WBPRxrRyQV1-",
        "outputId": "33cbbddd-b2ae-4d31-c405-fd0190e90b1b"
      },
      "outputs": [
        {
          "name": "stdout",
          "output_type": "stream",
          "text": [
            "Requirement already satisfied: Flask in /usr/local/lib/python3.10/dist-packages (2.2.5)\n",
            "Collecting pyngrok\n",
            "  Downloading pyngrok-7.1.6-py3-none-any.whl (22 kB)\n",
            "Requirement already satisfied: Werkzeug>=2.2.2 in /usr/local/lib/python3.10/dist-packages (from Flask) (3.0.3)\n",
            "Requirement already satisfied: Jinja2>=3.0 in /usr/local/lib/python3.10/dist-packages (from Flask) (3.1.4)\n",
            "Requirement already satisfied: itsdangerous>=2.0 in /usr/local/lib/python3.10/dist-packages (from Flask) (2.2.0)\n",
            "Requirement already satisfied: click>=8.0 in /usr/local/lib/python3.10/dist-packages (from Flask) (8.1.7)\n",
            "Requirement already satisfied: PyYAML>=5.1 in /usr/local/lib/python3.10/dist-packages (from pyngrok) (6.0.1)\n",
            "Requirement already satisfied: MarkupSafe>=2.0 in /usr/local/lib/python3.10/dist-packages (from Jinja2>=3.0->Flask) (2.1.5)\n",
            "Installing collected packages: pyngrok\n",
            "Successfully installed pyngrok-7.1.6\n",
            "Collecting twilio\n",
            "  Downloading twilio-9.1.1-py2.py3-none-any.whl (1.7 MB)\n",
            "\u001b[2K     \u001b[90m━━━━━━━━━━━━━━━━━━━━━━━━━━━━━━━━━━━━━━━━\u001b[0m \u001b[32m1.7/1.7 MB\u001b[0m \u001b[31m6.8 MB/s\u001b[0m eta \u001b[36m0:00:00\u001b[0m\n",
            "\u001b[?25hRequirement already satisfied: flask in /usr/local/lib/python3.10/dist-packages (2.2.5)\n",
            "Requirement already satisfied: requests>=2.0.0 in /usr/local/lib/python3.10/dist-packages (from twilio) (2.31.0)\n",
            "Requirement already satisfied: PyJWT<3.0.0,>=2.0.0 in /usr/lib/python3/dist-packages (from twilio) (2.3.0)\n",
            "Requirement already satisfied: aiohttp>=3.8.4 in /usr/local/lib/python3.10/dist-packages (from twilio) (3.9.5)\n",
            "Collecting aiohttp-retry>=2.8.3 (from twilio)\n",
            "  Downloading aiohttp_retry-2.8.3-py3-none-any.whl (9.8 kB)\n",
            "Requirement already satisfied: Werkzeug>=2.2.2 in /usr/local/lib/python3.10/dist-packages (from flask) (3.0.3)\n",
            "Requirement already satisfied: Jinja2>=3.0 in /usr/local/lib/python3.10/dist-packages (from flask) (3.1.4)\n",
            "Requirement already satisfied: itsdangerous>=2.0 in /usr/local/lib/python3.10/dist-packages (from flask) (2.2.0)\n",
            "Requirement already satisfied: click>=8.0 in /usr/local/lib/python3.10/dist-packages (from flask) (8.1.7)\n",
            "Requirement already satisfied: aiosignal>=1.1.2 in /usr/local/lib/python3.10/dist-packages (from aiohttp>=3.8.4->twilio) (1.3.1)\n",
            "Requirement already satisfied: attrs>=17.3.0 in /usr/local/lib/python3.10/dist-packages (from aiohttp>=3.8.4->twilio) (23.2.0)\n",
            "Requirement already satisfied: frozenlist>=1.1.1 in /usr/local/lib/python3.10/dist-packages (from aiohttp>=3.8.4->twilio) (1.4.1)\n",
            "Requirement already satisfied: multidict<7.0,>=4.5 in /usr/local/lib/python3.10/dist-packages (from aiohttp>=3.8.4->twilio) (6.0.5)\n",
            "Requirement already satisfied: yarl<2.0,>=1.0 in /usr/local/lib/python3.10/dist-packages (from aiohttp>=3.8.4->twilio) (1.9.4)\n",
            "Requirement already satisfied: async-timeout<5.0,>=4.0 in /usr/local/lib/python3.10/dist-packages (from aiohttp>=3.8.4->twilio) (4.0.3)\n",
            "Requirement already satisfied: MarkupSafe>=2.0 in /usr/local/lib/python3.10/dist-packages (from Jinja2>=3.0->flask) (2.1.5)\n",
            "Requirement already satisfied: charset-normalizer<4,>=2 in /usr/local/lib/python3.10/dist-packages (from requests>=2.0.0->twilio) (3.3.2)\n",
            "Requirement already satisfied: idna<4,>=2.5 in /usr/local/lib/python3.10/dist-packages (from requests>=2.0.0->twilio) (3.7)\n",
            "Requirement already satisfied: urllib3<3,>=1.21.1 in /usr/local/lib/python3.10/dist-packages (from requests>=2.0.0->twilio) (2.0.7)\n",
            "Requirement already satisfied: certifi>=2017.4.17 in /usr/local/lib/python3.10/dist-packages (from requests>=2.0.0->twilio) (2024.6.2)\n",
            "Installing collected packages: aiohttp-retry, twilio\n",
            "Successfully installed aiohttp-retry-2.8.3 twilio-9.1.1\n",
            "Requirement already satisfied: pyngrok in /usr/local/lib/python3.10/dist-packages (7.1.6)\n",
            "Requirement already satisfied: PyYAML>=5.1 in /usr/local/lib/python3.10/dist-packages (from pyngrok) (6.0.1)\n"
          ]
        }
      ],
      "source": [
        "!pip install Flask pyngrok\n",
        "!pip install twilio flask\n",
        "!pip install --upgrade pyngrok"
      ]
    },
    {
      "cell_type": "code",
      "execution_count": null,
      "metadata": {
        "id": "QkJKVmnKQ1x5"
      },
      "outputs": [],
      "source": [
        "from twilio.rest import Client\n",
        "from flask import Flask, request, jsonify\n",
        "from pyngrok import ngrok\n",
        "import json"
      ]
    },
    {
      "cell_type": "markdown",
      "metadata": {
        "id": "FSe_91ZS68La"
      },
      "source": [
        " configurar y utilizar la API de Twilio para enviar mensajes de WhatsApp desde un entorno de Google Colab. para obetener estas credenciales es necesario registrarse en https://www.twilio.com/en-us .\n",
        " Verifica tu cuenta y configura el sandbox para WhatsApp en Twilio.\n"
      ]
    },
    {
      "cell_type": "code",
      "execution_count": null,
      "metadata": {
        "id": "wXmseC__zBpl"
      },
      "outputs": [],
      "source": [
        "# Credenciales de Twilio\n",
        "account_sid = ''\n",
        "auth_token = ''\n",
        "client = Client(account_sid, auth_token)"
      ]
    },
    {
      "cell_type": "code",
      "execution_count": null,
      "metadata": {
        "colab": {
          "base_uri": "https://localhost:8080/"
        },
        "id": "aKgiekuwYjfW",
        "outputId": "6f9cff43-8a84-42ee-9994-774de6654bf3"
      },
      "outputs": [
        {
          "name": "stdout",
          "output_type": "stream",
          "text": []
        }
      ],
      "source": [
        "ngrok.set_auth_token(\"\")\n",
        "public_url = ngrok.connect(5000).public_url"
      ]
    },
    {
      "cell_type": "code",
      "execution_count": null,
      "metadata": {
        "colab": {
          "base_uri": "https://localhost:8080/"
        },
        "id": "CUxENYK7Y44f",
        "outputId": "7d1b15bf-1e50-4cdf-972b-59c6f4d9f83a"
      },
      "outputs": [
        {
          "name": "stdout",
          "output_type": "stream",
          "text": [
            "Ngrok URL: https://4e18-35-184-254-76.ngrok-free.app\n"
          ]
        }
      ],
      "source": [
        "print(\"Ngrok URL:\", public_url)"
      ]
    },
    {
      "cell_type": "code",
      "execution_count": null,
      "metadata": {
        "id": "kmQGPkev13b5"
      },
      "outputs": [],
      "source": [
        "# Función para enviar mensajes de WhatsApp\n",
        "def send_whatsapp_message(to, body):\n",
        "    message = client.messages.create(\n",
        "        body=body,\n",
        "        from_='whatsapp:+14155238886',  # Número de sandbox de Twilio\n",
        "        to=f'whatsapp:{to}'\n",
        "    )\n",
        "    return message.sid"
      ]
    },
    {
      "cell_type": "code",
      "execution_count": null,
      "metadata": {
        "colab": {
          "base_uri": "https://localhost:8080/"
        },
        "id": "K5s1gDmc2TC2",
        "outputId": "658f7714-e574-4338-ccbc-8f4e0a8e24e3"
      },
      "outputs": [
        {
          "name": "stdout",
          "output_type": "stream",
          "text": [
            "Mensaje enviado con SID: SMb8e8a2d42bccc927348bfabad7902c15\n"
          ]
        }
      ],
      "source": [
        "# Ejemplo de uso\n",
        "to = '+5491161966992'  # Número de teléfono del destinatario\n",
        "body = '¡Hola desde Google Colab!'\n",
        "message_sid = send_whatsapp_message(to, body)\n",
        "print(f\"Mensaje enviado con SID: {message_sid}\")"
      ]
    },
    {
      "cell_type": "markdown",
      "metadata": {
        "id": "WQ182aZ45nck"
      },
      "source": [
        "La respuesta que ofrescas al numero se mostrara en la plataforma sandbox de twilio que estara asociado al numero con el que hayas ingresado.\n"
      ]
    },
    {
      "cell_type": "code",
      "execution_count": null,
      "metadata": {
        "colab": {
          "base_uri": "https://localhost:8080/"
        },
        "id": "40c1-Q2K2HnW",
        "outputId": "6e08daef-81c6-4a8b-e495-40b76ff0476d"
      },
      "outputs": [
        {
          "name": "stdout",
          "output_type": "stream",
          "text": [
            "SM5ff63a079238a0903e729cd4000ccce4\n"
          ]
        }
      ],
      "source": [
        "from twilio.rest import Client\n",
        "\n",
        "account_sid = ''\n",
        "auth_token = ''\n",
        "client = Client(account_sid, auth_token)\n",
        "\n",
        "message = client.messages.create(\n",
        "  from_='whatsapp:+14155238886',\n",
        "  body='Your appointment is coming up on July 21 at 3PM',\n",
        "  to='whatsapp:+5491167936417'\n",
        ")\n",
        "\n",
        "print(message.sid)"
      ]
    },
    {
      "cell_type": "markdown",
      "metadata": {
        "id": "BwEzQ0D_6dtU"
      },
      "source": [
        "**NO ALCANCE A REALIZAR LA RESPUESTA DESDE EL WHATSAPP  **"
      ]
    }
  ],
  "metadata": {
    "colab": {
      "gpuType": "T4",
      "provenance": []
    },
    "kernelspec": {
      "display_name": "Python 3",
      "name": "python3"
    },
    "language_info": {
      "name": "python"
    }
  },
  "nbformat": 4,
  "nbformat_minor": 0
}
